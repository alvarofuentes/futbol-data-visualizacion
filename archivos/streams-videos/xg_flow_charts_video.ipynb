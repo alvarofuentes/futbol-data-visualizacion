{
 "cells": [
  {
   "cell_type": "code",
   "execution_count": 1,
   "metadata": {},
   "outputs": [],
   "source": [
    "import pandas as pd\n",
    "import matplotlib as mpl\n",
    "import matplotlib.pyplot as plt\n",
    "from bs4 import BeautifulSoup\n",
    "import requests\n",
    "import json\n",
    "from matplotlib.offsetbox import OffsetImage, AnnotationBbox\n",
    "\n",
    "def getImage(path, zoom=1):\n",
    "    return OffsetImage(plt.imread(path), zoom=zoom)"
   ]
  },
  {
   "cell_type": "code",
   "execution_count": 2,
   "metadata": {},
   "outputs": [],
   "source": [
    "headers = {\n",
    "    'authority': 'api.sofascore.com',\n",
    "    'accept': '*/*',\n",
    "    'accept-language': 'en-US,en;q=0.9',\n",
    "    'cache-control': 'max-age=0',\n",
    "    'dnt': '1',\n",
    "    'if-none-match': 'W/\"4bebed6144\"',\n",
    "    'origin': 'https://www.sofascore.com',\n",
    "    'referer': 'https://www.sofascore.com/',\n",
    "    'sec-ch-ua': '\"Not.A/Brand\";v=\"8\", \"Chromium\";v=\"114\"',\n",
    "    'sec-ch-ua-mobile': '?0',\n",
    "    'sec-ch-ua-platform': '\"macOS\"',\n",
    "    'sec-fetch-dest': 'empty',\n",
    "    'sec-fetch-mode': 'cors',\n",
    "    'sec-fetch-site': 'same-site',\n",
    "    'user-agent': 'Mozilla/5.0 (Windows NT 10.0; Win64; x64) AppleWebKit/537.36 (KHTML, like Gecko) Chrome/116.0.0.0 Safari/537.36',\n",
    "}"
   ]
  },
  {
   "cell_type": "code",
   "execution_count": 3,
   "metadata": {},
   "outputs": [],
   "source": [
    "response = requests.get('https://api.sofascore.com/api/v1/event/11352627/shotmap', headers=headers)"
   ]
  },
  {
   "cell_type": "code",
   "execution_count": 4,
   "metadata": {},
   "outputs": [
    {
     "data": {
      "text/plain": [
       "200"
      ]
     },
     "execution_count": 4,
     "metadata": {},
     "output_type": "execute_result"
    }
   ],
   "source": [
    "response.status_code"
   ]
  },
  {
   "cell_type": "code",
   "execution_count": 5,
   "metadata": {},
   "outputs": [],
   "source": [
    "tiros = response.json()['shotmap']"
   ]
  },
  {
   "cell_type": "code",
   "execution_count": 6,
   "metadata": {},
   "outputs": [
    {
     "data": {
      "text/plain": [
       "dict_keys(['player', 'isHome', 'shotType', 'situation', 'playerCoordinates', 'bodyPart', 'goalMouthLocation', 'goalMouthCoordinates', 'blockCoordinates', 'xg', 'id', 'time', 'addedTime', 'timeSeconds', 'draw', 'reversedPeriodTime', 'reversedPeriodTimeSeconds', 'incidentType'])"
      ]
     },
     "execution_count": 6,
     "metadata": {},
     "output_type": "execute_result"
    }
   ],
   "source": [
    "tiros[0].keys()"
   ]
  },
  {
   "cell_type": "code",
   "execution_count": 7,
   "metadata": {},
   "outputs": [],
   "source": [
    "tiros_partido = pd.DataFrame(tiros)"
   ]
  },
  {
   "cell_type": "code",
   "execution_count": 8,
   "metadata": {},
   "outputs": [
    {
     "data": {
      "text/html": [
       "<div>\n",
       "<style scoped>\n",
       "    .dataframe tbody tr th:only-of-type {\n",
       "        vertical-align: middle;\n",
       "    }\n",
       "\n",
       "    .dataframe tbody tr th {\n",
       "        vertical-align: top;\n",
       "    }\n",
       "\n",
       "    .dataframe thead th {\n",
       "        text-align: right;\n",
       "    }\n",
       "</style>\n",
       "<table border=\"1\" class=\"dataframe\">\n",
       "  <thead>\n",
       "    <tr style=\"text-align: right;\">\n",
       "      <th></th>\n",
       "      <th>player</th>\n",
       "      <th>isHome</th>\n",
       "      <th>shotType</th>\n",
       "      <th>situation</th>\n",
       "      <th>playerCoordinates</th>\n",
       "      <th>bodyPart</th>\n",
       "      <th>goalMouthLocation</th>\n",
       "      <th>goalMouthCoordinates</th>\n",
       "      <th>blockCoordinates</th>\n",
       "      <th>xg</th>\n",
       "      <th>id</th>\n",
       "      <th>time</th>\n",
       "      <th>addedTime</th>\n",
       "      <th>timeSeconds</th>\n",
       "      <th>draw</th>\n",
       "      <th>reversedPeriodTime</th>\n",
       "      <th>reversedPeriodTimeSeconds</th>\n",
       "      <th>incidentType</th>\n",
       "      <th>xgot</th>\n",
       "      <th>goalType</th>\n",
       "    </tr>\n",
       "  </thead>\n",
       "  <tbody>\n",
       "    <tr>\n",
       "      <th>0</th>\n",
       "      <td>{'name': 'Richarlison', 'firstName': '', 'last...</td>\n",
       "      <td>False</td>\n",
       "      <td>block</td>\n",
       "      <td>assisted</td>\n",
       "      <td>{'x': 15, 'y': 57.3, 'z': 0}</td>\n",
       "      <td>right-foot</td>\n",
       "      <td>low-centre</td>\n",
       "      <td>{'x': 0, 'y': 51.1, 'z': 19}</td>\n",
       "      <td>{'x': 12.3, 'y': 55.8, 'z': 0}</td>\n",
       "      <td>0.082999</td>\n",
       "      <td>2221875</td>\n",
       "      <td>90</td>\n",
       "      <td>10.0</td>\n",
       "      <td>5971</td>\n",
       "      <td>{'start': {'x': 57.3, 'y': 15}, 'block': {'x':...</td>\n",
       "      <td>1</td>\n",
       "      <td>329</td>\n",
       "      <td>shot</td>\n",
       "      <td>NaN</td>\n",
       "      <td>NaN</td>\n",
       "    </tr>\n",
       "    <tr>\n",
       "      <th>1</th>\n",
       "      <td>{'name': 'Richarlison', 'firstName': '', 'last...</td>\n",
       "      <td>False</td>\n",
       "      <td>save</td>\n",
       "      <td>regular</td>\n",
       "      <td>{'x': 17.9, 'y': 50.4, 'z': 0}</td>\n",
       "      <td>right-foot</td>\n",
       "      <td>high-left</td>\n",
       "      <td>{'x': 0, 'y': 52.7, 'z': 36.1}</td>\n",
       "      <td>{'x': 2.5, 'y': 50, 'z': 0}</td>\n",
       "      <td>0.047728</td>\n",
       "      <td>2221848</td>\n",
       "      <td>90</td>\n",
       "      <td>6.0</td>\n",
       "      <td>5702</td>\n",
       "      <td>{'start': {'x': 50.4, 'y': 17.9}, 'block': {'x...</td>\n",
       "      <td>1</td>\n",
       "      <td>598</td>\n",
       "      <td>shot</td>\n",
       "      <td>0.3723</td>\n",
       "      <td>NaN</td>\n",
       "    </tr>\n",
       "  </tbody>\n",
       "</table>\n",
       "</div>"
      ],
      "text/plain": [
       "                                              player  isHome shotType  \\\n",
       "0  {'name': 'Richarlison', 'firstName': '', 'last...   False    block   \n",
       "1  {'name': 'Richarlison', 'firstName': '', 'last...   False     save   \n",
       "\n",
       "  situation               playerCoordinates    bodyPart goalMouthLocation  \\\n",
       "0  assisted    {'x': 15, 'y': 57.3, 'z': 0}  right-foot        low-centre   \n",
       "1   regular  {'x': 17.9, 'y': 50.4, 'z': 0}  right-foot         high-left   \n",
       "\n",
       "             goalMouthCoordinates                blockCoordinates        xg  \\\n",
       "0    {'x': 0, 'y': 51.1, 'z': 19}  {'x': 12.3, 'y': 55.8, 'z': 0}  0.082999   \n",
       "1  {'x': 0, 'y': 52.7, 'z': 36.1}     {'x': 2.5, 'y': 50, 'z': 0}  0.047728   \n",
       "\n",
       "        id  time  addedTime  timeSeconds  \\\n",
       "0  2221875    90       10.0         5971   \n",
       "1  2221848    90        6.0         5702   \n",
       "\n",
       "                                                draw  reversedPeriodTime  \\\n",
       "0  {'start': {'x': 57.3, 'y': 15}, 'block': {'x':...                   1   \n",
       "1  {'start': {'x': 50.4, 'y': 17.9}, 'block': {'x...                   1   \n",
       "\n",
       "   reversedPeriodTimeSeconds incidentType    xgot goalType  \n",
       "0                        329         shot     NaN      NaN  \n",
       "1                        598         shot  0.3723      NaN  "
      ]
     },
     "execution_count": 8,
     "metadata": {},
     "output_type": "execute_result"
    }
   ],
   "source": [
    "tiros_partido.head(2)"
   ]
  },
  {
   "cell_type": "code",
   "execution_count": 9,
   "metadata": {},
   "outputs": [
    {
     "data": {
      "text/plain": [
       "Index(['player', 'isHome', 'shotType', 'situation', 'playerCoordinates',\n",
       "       'bodyPart', 'goalMouthLocation', 'goalMouthCoordinates',\n",
       "       'blockCoordinates', 'xg', 'id', 'time', 'addedTime', 'timeSeconds',\n",
       "       'draw', 'reversedPeriodTime', 'reversedPeriodTimeSeconds',\n",
       "       'incidentType', 'xgot', 'goalType'],\n",
       "      dtype='object')"
      ]
     },
     "execution_count": 9,
     "metadata": {},
     "output_type": "execute_result"
    }
   ],
   "source": [
    "tiros_partido.columns"
   ]
  },
  {
   "cell_type": "code",
   "execution_count": 10,
   "metadata": {},
   "outputs": [],
   "source": [
    "df_xG = tiros_partido[['isHome', 'shotType', 'xg', 'time', 'addedTime']]"
   ]
  },
  {
   "cell_type": "code",
   "execution_count": 11,
   "metadata": {},
   "outputs": [
    {
     "name": "stderr",
     "output_type": "stream",
     "text": [
      "<ipython-input-11-2135782400f6>:1: SettingWithCopyWarning: \n",
      "A value is trying to be set on a copy of a slice from a DataFrame.\n",
      "Try using .loc[row_indexer,col_indexer] = value instead\n",
      "\n",
      "See the caveats in the documentation: https://pandas.pydata.org/pandas-docs/stable/user_guide/indexing.html#returning-a-view-versus-a-copy\n",
      "  df_xG['xg'] = df_xG.xg.fillna(0)\n"
     ]
    }
   ],
   "source": [
    "df_xG['xg'] = df_xG.xg.fillna(0)"
   ]
  },
  {
   "cell_type": "code",
   "execution_count": 12,
   "metadata": {},
   "outputs": [],
   "source": [
    "local_xG = df_xG[df_xG['isHome'] == True].sort_values(by='time').reset_index(drop=True)\n",
    "visit_xG = df_xG[~df_xG['isHome'] == True].sort_values(by='time').reset_index(drop=True)"
   ]
  },
  {
   "cell_type": "code",
   "execution_count": 13,
   "metadata": {},
   "outputs": [],
   "source": [
    "local_xG['xG_cumsum'] = local_xG.xg.cumsum()\n",
    "visit_xG['xG_cumsum'] = visit_xG.xg.cumsum()"
   ]
  },
  {
   "cell_type": "code",
   "execution_count": 14,
   "metadata": {},
   "outputs": [],
   "source": [
    "goles_local = local_xG[local_xG['shotType'] == 'goal']\n",
    "goles_visit = visit_xG[visit_xG['shotType'] == 'goal']"
   ]
  },
  {
   "cell_type": "code",
   "execution_count": 15,
   "metadata": {},
   "outputs": [
    {
     "data": {
      "text/html": [
       "<div>\n",
       "<style scoped>\n",
       "    .dataframe tbody tr th:only-of-type {\n",
       "        vertical-align: middle;\n",
       "    }\n",
       "\n",
       "    .dataframe tbody tr th {\n",
       "        vertical-align: top;\n",
       "    }\n",
       "\n",
       "    .dataframe thead th {\n",
       "        text-align: right;\n",
       "    }\n",
       "</style>\n",
       "<table border=\"1\" class=\"dataframe\">\n",
       "  <thead>\n",
       "    <tr style=\"text-align: right;\">\n",
       "      <th></th>\n",
       "      <th>isHome</th>\n",
       "      <th>shotType</th>\n",
       "      <th>xg</th>\n",
       "      <th>time</th>\n",
       "      <th>addedTime</th>\n",
       "      <th>xG_cumsum</th>\n",
       "    </tr>\n",
       "  </thead>\n",
       "  <tbody>\n",
       "    <tr>\n",
       "      <th>5</th>\n",
       "      <td>False</td>\n",
       "      <td>goal</td>\n",
       "      <td>0.125447</td>\n",
       "      <td>42</td>\n",
       "      <td>NaN</td>\n",
       "      <td>0.692602</td>\n",
       "    </tr>\n",
       "    <tr>\n",
       "      <th>7</th>\n",
       "      <td>False</td>\n",
       "      <td>goal</td>\n",
       "      <td>0.340573</td>\n",
       "      <td>55</td>\n",
       "      <td>NaN</td>\n",
       "      <td>1.205796</td>\n",
       "    </tr>\n",
       "  </tbody>\n",
       "</table>\n",
       "</div>"
      ],
      "text/plain": [
       "   isHome shotType        xg  time  addedTime  xG_cumsum\n",
       "5   False     goal  0.125447    42        NaN   0.692602\n",
       "7   False     goal  0.340573    55        NaN   1.205796"
      ]
     },
     "execution_count": 15,
     "metadata": {},
     "output_type": "execute_result"
    }
   ],
   "source": [
    "goles_visit"
   ]
  },
  {
   "cell_type": "code",
   "execution_count": 20,
   "metadata": {},
   "outputs": [
    {
     "data": {
      "image/png": "[encoded data removed]",
      "text/plain": [
       "<Figure size 1152x648 with 1 Axes>"
      ]
     },
     "metadata": {},
     "output_type": "display_data"
    }
   ],
   "source": [
    "fig, ax = plt.subplots(figsize = (16,9))\n",
    "fig.set_facecolor('white')\n",
    "ax.patch.set_facecolor('white')\n",
    "ax.grid(ls='dotted',lw=.9,color='black',axis='y',zorder=1)\n",
    "spines = ['top','bottom','left','right']\n",
    "for x in spines:\n",
    "    if x in spines:\n",
    "        ax.spines[x].set_visible(False)\n",
    "\n",
    "plt.xticks([0,15,30,45,60,75,90])\n",
    "plt.xlabel('Minuto',color='black',fontsize=16)\n",
    "plt.ylabel('Acumulación de xG',color='black',fontsize=16)\n",
    "ax.step(x=local_xG['time'], y=local_xG['xG_cumsum'],where='post', linewidth=5,label='Arsenal')\n",
    "ax.step(x=visit_xG['time'], y=visit_xG['xG_cumsum'],where='post', linewidth=5,label='Tottenham')\n",
    "ax.axvline(45, ls=':', color='black', lw=1.5)\n",
    "\n",
    "goles = [goles_local, goles_visit]\n",
    "\n",
    "for gol in goles:\n",
    "    for x0, y0 in zip(gol['time'], gol['xG_cumsum']):\n",
    "        ab = AnnotationBbox(getImage('C:/Users/Federico Rábanos/Documents/lanus stats/Python/Twitch_YouTube/archivos/pelota-modified (1).png'), (x0, y0), frameon=False)\n",
    "        ax.add_artist(ab)\n",
    "\n",
    "ax.legend()\n",
    "\n",
    "plt.savefig('thumbnail transparente.png', dpi=400, bbox_inches='tight', transparent=True)"
   ]
  }
 ],
 "metadata": {
  "kernelspec": {
   "display_name": "Python 3",
   "language": "python",
   "name": "python3"
  },
  "language_info": {
   "codemirror_mode": {
    "name": "ipython",
    "version": 3
   },
   "file_extension": ".py",
   "mimetype": "text/x-python",
   "name": "python",
   "nbconvert_exporter": "python",
   "pygments_lexer": "ipython3",
   "version": "3.9.2"
  },
  "orig_nbformat": 4
 },
 "nbformat": 4,
 "nbformat_minor": 2
}
