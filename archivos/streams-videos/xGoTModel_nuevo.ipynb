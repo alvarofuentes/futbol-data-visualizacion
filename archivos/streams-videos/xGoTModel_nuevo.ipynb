{
 "cells": [
  {
   "cell_type": "code",
   "execution_count": 1,
   "metadata": {},
   "outputs": [],
   "source": [
    "from mplsoccer import Pitch, FontManager, VerticalPitch\n",
    "URL_font = 'https://github.com/google/fonts/blob/main/ofl/fjallaone/FjallaOne-Regular.ttf?raw=true'\n",
    "robotto_regular = FontManager(URL_font)\n",
    "# Data Manipulation\n",
    "import math\n",
    "import pickle\n",
    "\n",
    "# Model\n",
    "from statsbombpy import sb\n",
    "import numpy as np\n",
    "import pandas as pd\n",
    "import matplotlib.pyplot as plt\n",
    "from sklearn.model_selection import train_test_split\n",
    "from sklearn.linear_model import LogisticRegression\n",
    "from sklearn.preprocessing import OneHotEncoder\n",
    "from sklearn.pipeline import Pipeline\n",
    "from sklearn.compose import ColumnTransformer\n",
    "from sklearn.metrics import accuracy_score, recall_score, precision_score, f1_score, classification_report, confusion_matrix\n",
    "from tqdm import tqdm\n",
    "import warnings\n",
    "from pandas.core.common import SettingWithCopyWarning\n",
    "warnings.simplefilter(action=\"ignore\", category=SettingWithCopyWarning)"
   ]
  },
  {
   "cell_type": "code",
   "execution_count": 2,
   "metadata": {},
   "outputs": [],
   "source": [
    "df_tiros = pd.read_csv('archivos/tirosStatsBomb_modeloxG_v2.csv')"
   ]
  },
  {
   "cell_type": "code",
   "execution_count": 3,
   "metadata": {},
   "outputs": [],
   "source": [
    "df_nuevo = pd.DataFrame(columns = ['end_x', 'goalMouthY', 'goalMouthZ', 'xG', 'outcome'])"
   ]
  },
  {
   "cell_type": "code",
   "execution_count": 4,
   "metadata": {},
   "outputs": [],
   "source": [
    "df_tiros['len_end_loc'] = df_tiros['shot_end_location'].apply(len)\n",
    "df_tiros = df_tiros[df_tiros['len_end_loc'] > 14]"
   ]
  },
  {
   "cell_type": "code",
   "execution_count": 5,
   "metadata": {},
   "outputs": [],
   "source": [
    "for i in range(len(df_tiros)):\n",
    "    new_row = df_tiros.shot_end_location.iloc[i].replace(\"[\", \"\").replace(\"]\", \"\").split(', ')\n",
    "    new_row.append(df_tiros.shot_statsbomb_xg.iloc[i])\n",
    "    new_row.append(df_tiros.shot_outcome.iloc[i])\n",
    "    df_nuevo.loc[len(df_nuevo)] = new_row"
   ]
  },
  {
   "cell_type": "code",
   "execution_count": 6,
   "metadata": {},
   "outputs": [],
   "source": [
    "df_nuevo[['end_x', 'goalMouthY', 'goalMouthZ']] = df_nuevo[['end_x', 'goalMouthY', 'goalMouthZ']].astype(float)"
   ]
  },
  {
   "cell_type": "code",
   "execution_count": 30,
   "metadata": {},
   "outputs": [
    {
     "data": {
      "text/html": [
       "<div>\n",
       "<style scoped>\n",
       "    .dataframe tbody tr th:only-of-type {\n",
       "        vertical-align: middle;\n",
       "    }\n",
       "\n",
       "    .dataframe tbody tr th {\n",
       "        vertical-align: top;\n",
       "    }\n",
       "\n",
       "    .dataframe thead th {\n",
       "        text-align: right;\n",
       "    }\n",
       "</style>\n",
       "<table border=\"1\" class=\"dataframe\">\n",
       "  <thead>\n",
       "    <tr style=\"text-align: right;\">\n",
       "      <th></th>\n",
       "      <th>end_x</th>\n",
       "      <th>goalMouthY</th>\n",
       "      <th>goalMouthZ</th>\n",
       "      <th>xG</th>\n",
       "    </tr>\n",
       "  </thead>\n",
       "  <tbody>\n",
       "    <tr>\n",
       "      <th>count</th>\n",
       "      <td>472.000000</td>\n",
       "      <td>472.000000</td>\n",
       "      <td>472.000000</td>\n",
       "      <td>472.000000</td>\n",
       "    </tr>\n",
       "    <tr>\n",
       "      <th>mean</th>\n",
       "      <td>119.983686</td>\n",
       "      <td>39.943432</td>\n",
       "      <td>1.726271</td>\n",
       "      <td>0.146926</td>\n",
       "    </tr>\n",
       "    <tr>\n",
       "      <th>std</th>\n",
       "      <td>0.130688</td>\n",
       "      <td>3.487058</td>\n",
       "      <td>1.102607</td>\n",
       "      <td>0.167212</td>\n",
       "    </tr>\n",
       "    <tr>\n",
       "      <th>min</th>\n",
       "      <td>118.000000</td>\n",
       "      <td>35.500000</td>\n",
       "      <td>0.000000</td>\n",
       "      <td>0.004795</td>\n",
       "    </tr>\n",
       "    <tr>\n",
       "      <th>25%</th>\n",
       "      <td>120.000000</td>\n",
       "      <td>36.200000</td>\n",
       "      <td>0.575000</td>\n",
       "      <td>0.041871</td>\n",
       "    </tr>\n",
       "    <tr>\n",
       "      <th>50%</th>\n",
       "      <td>120.000000</td>\n",
       "      <td>39.650000</td>\n",
       "      <td>1.900000</td>\n",
       "      <td>0.086959</td>\n",
       "    </tr>\n",
       "    <tr>\n",
       "      <th>75%</th>\n",
       "      <td>120.000000</td>\n",
       "      <td>43.900000</td>\n",
       "      <td>2.800000</td>\n",
       "      <td>0.186220</td>\n",
       "    </tr>\n",
       "    <tr>\n",
       "      <th>max</th>\n",
       "      <td>120.000000</td>\n",
       "      <td>44.400000</td>\n",
       "      <td>3.000000</td>\n",
       "      <td>0.897061</td>\n",
       "    </tr>\n",
       "  </tbody>\n",
       "</table>\n",
       "</div>"
      ],
      "text/plain": [
       "            end_x  goalMouthY  goalMouthZ          xG\n",
       "count  472.000000  472.000000  472.000000  472.000000\n",
       "mean   119.983686   39.943432    1.726271    0.146926\n",
       "std      0.130688    3.487058    1.102607    0.167212\n",
       "min    118.000000   35.500000    0.000000    0.004795\n",
       "25%    120.000000   36.200000    0.575000    0.041871\n",
       "50%    120.000000   39.650000    1.900000    0.086959\n",
       "75%    120.000000   43.900000    2.800000    0.186220\n",
       "max    120.000000   44.400000    3.000000    0.897061"
      ]
     },
     "execution_count": 30,
     "metadata": {},
     "output_type": "execute_result"
    }
   ],
   "source": [
    "df_nuevo[df_nuevo['outcome'] == 'Post'].describe()"
   ]
  },
  {
   "cell_type": "code",
   "execution_count": 8,
   "metadata": {},
   "outputs": [
    {
     "data": {
      "text/plain": [
       "(7798, 5)"
      ]
     },
     "execution_count": 8,
     "metadata": {},
     "output_type": "execute_result"
    }
   ],
   "source": [
    "tiros_al_arco = df_nuevo[(df_nuevo['goalMouthY'] >= 35.8) & (df_nuevo['goalMouthY'] <= 44.2) & (df_nuevo['goalMouthZ'] <= 2.6)]\n",
    "tiros_al_arco.shape"
   ]
  },
  {
   "cell_type": "code",
   "execution_count": 9,
   "metadata": {},
   "outputs": [
    {
     "data": {
      "text/plain": [
       "<matplotlib.collections.PathCollection at 0x16e2d01de20>"
      ]
     },
     "execution_count": 9,
     "metadata": {},
     "output_type": "execute_result"
    },
    {
     "data": {
      "image/png": "[encoded data removed]",
      "text/plain": [
       "<Figure size 1152x648 with 1 Axes>"
      ]
     },
     "metadata": {},
     "output_type": "display_data"
    }
   ],
   "source": [
    "fig, ax = plt.subplots(figsize=(16,9))\n",
    "facecolor = \"#EFE9E6\"\n",
    "fig.set_facecolor(facecolor)\n",
    "pitch = VerticalPitch(pitch_type='statsbomb',goal_type='box', goal_alpha=.8, pitch_color=facecolor, line_color = 'black', half=True)\n",
    "pitch.draw(ax=ax)\n",
    "\n",
    "pitch.scatter(tiros_al_arco.end_x, tiros_al_arco.goalMouthY,ax=ax)"
   ]
  },
  {
   "cell_type": "code",
   "execution_count": 10,
   "metadata": {},
   "outputs": [
    {
     "data": {
      "text/plain": [
       "<matplotlib.lines.Line2D at 0x16e2d0c59a0>"
      ]
     },
     "execution_count": 10,
     "metadata": {},
     "output_type": "execute_result"
    },
    {
     "data": {
      "image/png": "[encoded data removed]",
      "text/plain": [
       "<Figure size 432x288 with 1 Axes>"
      ]
     },
     "metadata": {
      "needs_background": "light"
     },
     "output_type": "display_data"
    }
   ],
   "source": [
    "plt.scatter(tiros_al_arco['goalMouthY'], tiros_al_arco['goalMouthZ'], color='red', label='Goles', alpha=.5)\n",
    "#plt.scatter(menos_prob['goalMouthY'], menos_prob['goalMouthZ'], color='blue', label='Goles', alpha=.25)\n",
    "\n",
    "plt.xlabel('GoalMouthY')\n",
    "plt.ylabel('GoalMouthZ')\n",
    "plt.axhline(2.6)\n",
    "plt.axvline(35.5)\n",
    "plt.axvline(44.4)"
   ]
  },
  {
   "cell_type": "code",
   "execution_count": 11,
   "metadata": {},
   "outputs": [],
   "source": [
    "tiros_al_arco['DistanceY'] = np.sqrt(np.square(40-tiros_al_arco['goalMouthY']))\n",
    "tiros_al_arco['DistanceZ'] = np.sqrt(np.square(0-tiros_al_arco['goalMouthZ']))\n",
    "tiros_al_arco['goal'] = np.where(tiros_al_arco['outcome'] == 'Goal', True, False)"
   ]
  },
  {
   "cell_type": "code",
   "execution_count": 12,
   "metadata": {},
   "outputs": [
    {
     "data": {
      "text/html": [
       "<div>\n",
       "<style scoped>\n",
       "    .dataframe tbody tr th:only-of-type {\n",
       "        vertical-align: middle;\n",
       "    }\n",
       "\n",
       "    .dataframe tbody tr th {\n",
       "        vertical-align: top;\n",
       "    }\n",
       "\n",
       "    .dataframe thead th {\n",
       "        text-align: right;\n",
       "    }\n",
       "</style>\n",
       "<table border=\"1\" class=\"dataframe\">\n",
       "  <thead>\n",
       "    <tr style=\"text-align: right;\">\n",
       "      <th></th>\n",
       "      <th>end_x</th>\n",
       "      <th>goalMouthY</th>\n",
       "      <th>goalMouthZ</th>\n",
       "      <th>xG</th>\n",
       "      <th>outcome</th>\n",
       "      <th>DistanceY</th>\n",
       "      <th>DistanceZ</th>\n",
       "      <th>goal</th>\n",
       "    </tr>\n",
       "  </thead>\n",
       "  <tbody>\n",
       "    <tr>\n",
       "      <th>0</th>\n",
       "      <td>114.8</td>\n",
       "      <td>40.6</td>\n",
       "      <td>1.6</td>\n",
       "      <td>0.353289</td>\n",
       "      <td>Saved</td>\n",
       "      <td>0.6</td>\n",
       "      <td>1.6</td>\n",
       "      <td>False</td>\n",
       "    </tr>\n",
       "    <tr>\n",
       "      <th>1</th>\n",
       "      <td>115.5</td>\n",
       "      <td>39.1</td>\n",
       "      <td>1.0</td>\n",
       "      <td>0.069527</td>\n",
       "      <td>Saved</td>\n",
       "      <td>0.9</td>\n",
       "      <td>1.0</td>\n",
       "      <td>False</td>\n",
       "    </tr>\n",
       "    <tr>\n",
       "      <th>3</th>\n",
       "      <td>120.0</td>\n",
       "      <td>36.1</td>\n",
       "      <td>0.6</td>\n",
       "      <td>0.030002</td>\n",
       "      <td>Post</td>\n",
       "      <td>3.9</td>\n",
       "      <td>0.6</td>\n",
       "      <td>False</td>\n",
       "    </tr>\n",
       "    <tr>\n",
       "      <th>4</th>\n",
       "      <td>118.1</td>\n",
       "      <td>39.1</td>\n",
       "      <td>1.0</td>\n",
       "      <td>0.516879</td>\n",
       "      <td>Saved</td>\n",
       "      <td>0.9</td>\n",
       "      <td>1.0</td>\n",
       "      <td>False</td>\n",
       "    </tr>\n",
       "    <tr>\n",
       "      <th>5</th>\n",
       "      <td>120.0</td>\n",
       "      <td>43.1</td>\n",
       "      <td>0.2</td>\n",
       "      <td>0.069699</td>\n",
       "      <td>Goal</td>\n",
       "      <td>3.1</td>\n",
       "      <td>0.2</td>\n",
       "      <td>True</td>\n",
       "    </tr>\n",
       "    <tr>\n",
       "      <th>...</th>\n",
       "      <td>...</td>\n",
       "      <td>...</td>\n",
       "      <td>...</td>\n",
       "      <td>...</td>\n",
       "      <td>...</td>\n",
       "      <td>...</td>\n",
       "      <td>...</td>\n",
       "      <td>...</td>\n",
       "    </tr>\n",
       "    <tr>\n",
       "      <th>16419</th>\n",
       "      <td>120.0</td>\n",
       "      <td>42.5</td>\n",
       "      <td>0.3</td>\n",
       "      <td>0.783500</td>\n",
       "      <td>Goal</td>\n",
       "      <td>2.5</td>\n",
       "      <td>0.3</td>\n",
       "      <td>True</td>\n",
       "    </tr>\n",
       "    <tr>\n",
       "      <th>16420</th>\n",
       "      <td>115.8</td>\n",
       "      <td>39.3</td>\n",
       "      <td>0.0</td>\n",
       "      <td>0.035833</td>\n",
       "      <td>Saved</td>\n",
       "      <td>0.7</td>\n",
       "      <td>0.0</td>\n",
       "      <td>False</td>\n",
       "    </tr>\n",
       "    <tr>\n",
       "      <th>16423</th>\n",
       "      <td>115.7</td>\n",
       "      <td>37.8</td>\n",
       "      <td>0.0</td>\n",
       "      <td>0.115056</td>\n",
       "      <td>Saved</td>\n",
       "      <td>2.2</td>\n",
       "      <td>0.0</td>\n",
       "      <td>False</td>\n",
       "    </tr>\n",
       "    <tr>\n",
       "      <th>16425</th>\n",
       "      <td>116.9</td>\n",
       "      <td>43.6</td>\n",
       "      <td>2.1</td>\n",
       "      <td>0.029767</td>\n",
       "      <td>Saved</td>\n",
       "      <td>3.6</td>\n",
       "      <td>2.1</td>\n",
       "      <td>False</td>\n",
       "    </tr>\n",
       "    <tr>\n",
       "      <th>16426</th>\n",
       "      <td>117.2</td>\n",
       "      <td>38.0</td>\n",
       "      <td>0.0</td>\n",
       "      <td>0.073655</td>\n",
       "      <td>Saved</td>\n",
       "      <td>2.0</td>\n",
       "      <td>0.0</td>\n",
       "      <td>False</td>\n",
       "    </tr>\n",
       "  </tbody>\n",
       "</table>\n",
       "<p>7798 rows × 8 columns</p>\n",
       "</div>"
      ],
      "text/plain": [
       "       end_x  goalMouthY  goalMouthZ        xG outcome  DistanceY  DistanceZ  \\\n",
       "0      114.8        40.6         1.6  0.353289   Saved        0.6        1.6   \n",
       "1      115.5        39.1         1.0  0.069527   Saved        0.9        1.0   \n",
       "3      120.0        36.1         0.6  0.030002    Post        3.9        0.6   \n",
       "4      118.1        39.1         1.0  0.516879   Saved        0.9        1.0   \n",
       "5      120.0        43.1         0.2  0.069699    Goal        3.1        0.2   \n",
       "...      ...         ...         ...       ...     ...        ...        ...   \n",
       "16419  120.0        42.5         0.3  0.783500    Goal        2.5        0.3   \n",
       "16420  115.8        39.3         0.0  0.035833   Saved        0.7        0.0   \n",
       "16423  115.7        37.8         0.0  0.115056   Saved        2.2        0.0   \n",
       "16425  116.9        43.6         2.1  0.029767   Saved        3.6        2.1   \n",
       "16426  117.2        38.0         0.0  0.073655   Saved        2.0        0.0   \n",
       "\n",
       "        goal  \n",
       "0      False  \n",
       "1      False  \n",
       "3      False  \n",
       "4      False  \n",
       "5       True  \n",
       "...      ...  \n",
       "16419   True  \n",
       "16420  False  \n",
       "16423  False  \n",
       "16425  False  \n",
       "16426  False  \n",
       "\n",
       "[7798 rows x 8 columns]"
      ]
     },
     "execution_count": 12,
     "metadata": {},
     "output_type": "execute_result"
    }
   ],
   "source": [
    "tiros_al_arco"
   ]
  },
  {
   "cell_type": "code",
   "execution_count": 13,
   "metadata": {},
   "outputs": [],
   "source": [
    "X = tiros_al_arco.drop(columns=['goal', 'end_x', 'goalMouthY','goalMouthZ', 'outcome'])\n",
    "y = tiros_al_arco['goal']"
   ]
  },
  {
   "cell_type": "code",
   "execution_count": 14,
   "metadata": {},
   "outputs": [],
   "source": [
    "X_train, X_test, y_train, y_test = train_test_split(X,y,test_size=0.2,random_state=27, stratify=y)"
   ]
  },
  {
   "cell_type": "code",
   "execution_count": 15,
   "metadata": {},
   "outputs": [],
   "source": [
    "preprocessor = ColumnTransformer(\n",
    "    transformers=[\n",
    "        ('cat', OneHotEncoder()),\n",
    "    ],\n",
    "    remainder='passthrough'  # Mantener las variables numéricas sin modificar\n",
    ")\n",
    "\n",
    "model = Pipeline([\n",
    "    ('classifier', LogisticRegression())\n",
    "])"
   ]
  },
  {
   "cell_type": "code",
   "execution_count": 16,
   "metadata": {},
   "outputs": [
    {
     "data": {
      "text/plain": [
       "Pipeline(steps=[('classifier', LogisticRegression())])"
      ]
     },
     "execution_count": 16,
     "metadata": {},
     "output_type": "execute_result"
    }
   ],
   "source": [
    "model.fit(X_train, y_train)"
   ]
  },
  {
   "cell_type": "code",
   "execution_count": 17,
   "metadata": {},
   "outputs": [
    {
     "name": "stdout",
     "output_type": "stream",
     "text": [
      "Accuracy: 0.742948717948718\n",
      "Precision: 0.7048611111111112\n",
      "Recall: 0.3911368015414258\n",
      "F1 Score: 0.5030978934324659\n"
     ]
    }
   ],
   "source": [
    "y_pred = model.predict(X_test)\n",
    "accuracy = accuracy_score(y_test, y_pred)\n",
    "precision = precision_score(y_test, y_pred)\n",
    "recall = recall_score(y_test, y_pred)\n",
    "f1 = f1_score(y_test, y_pred)\n",
    "\n",
    "print(\"Accuracy:\", accuracy)\n",
    "print(\"Precision:\", precision)\n",
    "print(\"Recall:\", recall)\n",
    "print(\"F1 Score:\", f1)"
   ]
  },
  {
   "cell_type": "code",
   "execution_count": 18,
   "metadata": {},
   "outputs": [],
   "source": [
    "probabilities = model.predict_proba(X)[:, 1]\n",
    "probabilities = pd.DataFrame(probabilities, columns=['xGoT'])\n",
    "X_with_prob = pd.concat([X.reset_index(drop=True), probabilities], axis=1)"
   ]
  },
  {
   "cell_type": "code",
   "execution_count": 19,
   "metadata": {},
   "outputs": [],
   "source": [
    "tiros_al_arco_with_prob = pd.concat([tiros_al_arco.reset_index(drop=True), probabilities], axis=1)"
   ]
  },
  {
   "cell_type": "code",
   "execution_count": 20,
   "metadata": {},
   "outputs": [
    {
     "data": {
      "text/plain": [
       "count    7798.000000\n",
       "mean        0.162052\n",
       "std         0.079849\n",
       "min        -0.047533\n",
       "25%         0.099172\n",
       "50%         0.159992\n",
       "75%         0.220767\n",
       "max         0.409294\n",
       "Name: dif, dtype: float64"
      ]
     },
     "execution_count": 20,
     "metadata": {},
     "output_type": "execute_result"
    }
   ],
   "source": [
    "X_with_prob['dif'] = X_with_prob['xGoT'] - X_with_prob['xG']\n",
    "X_with_prob.dif.describe()"
   ]
  },
  {
   "cell_type": "code",
   "execution_count": 21,
   "metadata": {},
   "outputs": [],
   "source": [
    "tiros_al_arco_with_prob['dif'] = tiros_al_arco_with_prob['xGoT'] - tiros_al_arco_with_prob['xG']\n"
   ]
  },
  {
   "cell_type": "code",
   "execution_count": 22,
   "metadata": {},
   "outputs": [],
   "source": [
    "mas_prob = tiros_al_arco_with_prob[tiros_al_arco_with_prob['dif'] > .35]\n",
    "menos_prob = tiros_al_arco_with_prob[tiros_al_arco_with_prob['dif'] < 0]\n"
   ]
  },
  {
   "cell_type": "code",
   "execution_count": 23,
   "metadata": {},
   "outputs": [
    {
     "data": {
      "text/plain": [
       "count    7798.000000\n",
       "mean        0.162052\n",
       "std         0.079849\n",
       "min        -0.047533\n",
       "25%         0.099172\n",
       "50%         0.159992\n",
       "75%         0.220767\n",
       "max         0.409294\n",
       "Name: dif, dtype: float64"
      ]
     },
     "execution_count": 23,
     "metadata": {},
     "output_type": "execute_result"
    }
   ],
   "source": [
    "tiros_al_arco_with_prob.dif.describe()"
   ]
  },
  {
   "cell_type": "code",
   "execution_count": 31,
   "metadata": {},
   "outputs": [
    {
     "data": {
      "text/plain": [
       "<matplotlib.lines.Line2D at 0x16e314444c0>"
      ]
     },
     "execution_count": 31,
     "metadata": {},
     "output_type": "execute_result"
    },
    {
     "data": {
      "image/png": "[encoded data removed]",
      "text/plain": [
       "<Figure size 432x288 with 1 Axes>"
      ]
     },
     "metadata": {
      "needs_background": "light"
     },
     "output_type": "display_data"
    }
   ],
   "source": [
    "plt.scatter(mas_prob['goalMouthY'], mas_prob['goalMouthZ'], color='red', label='Goles', alpha=.5)\n",
    "#plt.scatter(menos_prob['goalMouthY'], menos_prob['goalMouthZ'], color='blue', label='Goles', alpha=.25)\n",
    "\n",
    "plt.xlabel('GoalMouthY')\n",
    "plt.ylabel('GoalMouthZ')\n",
    "plt.axhline(2.6)\n",
    "plt.axvline(35.5)\n",
    "plt.axvline(44.4)"
   ]
  },
  {
   "cell_type": "code",
   "execution_count": 39,
   "metadata": {},
   "outputs": [
    {
     "data": {
      "text/plain": [
       "(2592, 2602.975297311064)"
      ]
     },
     "execution_count": 39,
     "metadata": {},
     "output_type": "execute_result"
    }
   ],
   "source": [
    "tiros_al_arco_with_prob.goal.sum(), tiros_al_arco_with_prob.xGoT.sum()"
   ]
  },
  {
   "cell_type": "code",
   "execution_count": 40,
   "metadata": {},
   "outputs": [],
   "source": [
    "import pickle\n",
    "\n",
    "# Guardar el modelo en un archivo\n",
    "with open('modelo_goles_esperados_alarco.pkl', 'wb') as archivo:\n",
    "    pickle.dump(model, archivo)"
   ]
  }
 ],
 "metadata": {
  "kernelspec": {
   "display_name": "Python 3",
   "language": "python",
   "name": "python3"
  },
  "language_info": {
   "codemirror_mode": {
    "name": "ipython",
    "version": 3
   },
   "file_extension": ".py",
   "mimetype": "text/x-python",
   "name": "python",
   "nbconvert_exporter": "python",
   "pygments_lexer": "ipython3",
   "version": "3.9.2"
  },
  "orig_nbformat": 4
 },
 "nbformat": 4,
 "nbformat_minor": 2
}
