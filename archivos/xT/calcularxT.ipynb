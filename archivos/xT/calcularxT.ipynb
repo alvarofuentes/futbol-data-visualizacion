{
 "cells": [
  {
   "cell_type": "code",
   "execution_count": 1,
   "metadata": {},
   "outputs": [],
   "source": [
    "import socceraction.xthreat as xthreat\n",
    "import socceraction.spadl as spadl\n",
    "import pandas as pd\n",
    "import numpy as np\n",
    "#leanse la documentacion de socceraction, es buenisimo lo que tienen. https://socceraction.readthedocs.io/en/latest/"    
   ]
  },
  {
   "cell_type": "code",
   "execution_count": 20,
   "metadata": {},
   "outputs": [],
   "source": [
    "#import mi df, este df ya tiene hechas todas las consideraciones necesarias para que el formato spadl lo tome.\n",
    "df = pd.read_excel('TODOSLOSEVENTOS.xlsx', sheet_name='Hoja2')"
   ]
  },
  {
   "cell_type": "code",
   "execution_count": 22,
   "metadata": {},
   "outputs": [],
   "source": [
    "#relleno los 0\n",
    "df[['end_x','end_y']] = df[['end_x', 'end_y']].fillna(0)"
   ]
  },
  {
   "cell_type": "code",
   "execution_count": 23,
   "metadata": {},
   "outputs": [],
   "source": [
    "#la libreria de xThreat está armada para estas dimensiones los datos estan en 100x100\n",
    "df['start_x'] = df['start_x'] * 1.05\n",
    "df['start_y'] = df['start_y'] * 0.68\n",
    "df['end_x'] = df['end_x'] * 1.05\n",
    "df['end_y'] = df['end_y'] * 0.68"
   ]
  },
  {
   "cell_type": "code",
   "execution_count": 24,
   "metadata": {},
   "outputs": [
    {
     "name": "stdout",
     "output_type": "stream",
     "text": [
      "# iterations:  20\n"
     ]
    }
   ],
   "source": [
    "#planteo el modelo para el grid\n",
    "xTModel = xthreat.ExpectedThreat(l=12, w=8)\n",
    "xTModel.fit(df)\n",
    "xTModel.save_model(filepath='gridxT.json') #para guardar"
   ]
  },
  {
   "cell_type": "code",
   "execution_count": 25,
   "metadata": {},
   "outputs": [
    {
     "name": "stdout",
     "output_type": "stream",
     "text": [
      "[0.00686787 0.00431911 0.00429425 ... 0.00566596 0.00431047 0.00424181]\n"
     ]
    },
    {
     "data": {
      "text/html": [
       "<div>\n",
       "<style scoped>\n",
       "    .dataframe tbody tr th:only-of-type {\n",
       "        vertical-align: middle;\n",
       "    }\n",
       "\n",
       "    .dataframe tbody tr th {\n",
       "        vertical-align: top;\n",
       "    }\n",
       "\n",
       "    .dataframe thead th {\n",
       "        text-align: right;\n",
       "    }\n",
       "</style>\n",
       "<table border=\"1\" class=\"dataframe\">\n",
       "  <thead>\n",
       "    <tr style=\"text-align: right;\">\n",
       "      <th></th>\n",
       "      <th>type_name</th>\n",
       "      <th>start_x</th>\n",
       "      <th>start_y</th>\n",
       "      <th>end_x</th>\n",
       "      <th>end_y</th>\n",
       "      <th>xT_value</th>\n",
       "    </tr>\n",
       "  </thead>\n",
       "  <tbody>\n",
       "    <tr>\n",
       "      <th>0</th>\n",
       "      <td>pass</td>\n",
       "      <td>52.500</td>\n",
       "      <td>34.000</td>\n",
       "      <td>38.745</td>\n",
       "      <td>36.720</td>\n",
       "      <td>-0.002549</td>\n",
       "    </tr>\n",
       "    <tr>\n",
       "      <th>1</th>\n",
       "      <td>pass</td>\n",
       "      <td>38.745</td>\n",
       "      <td>36.720</td>\n",
       "      <td>36.435</td>\n",
       "      <td>25.636</td>\n",
       "      <td>-0.000071</td>\n",
       "    </tr>\n",
       "    <tr>\n",
       "      <th>2</th>\n",
       "      <td>pass</td>\n",
       "      <td>38.325</td>\n",
       "      <td>24.140</td>\n",
       "      <td>36.540</td>\n",
       "      <td>7.208</td>\n",
       "      <td>-0.000780</td>\n",
       "    </tr>\n",
       "    <tr>\n",
       "      <th>3</th>\n",
       "      <td>pass</td>\n",
       "      <td>36.330</td>\n",
       "      <td>9.316</td>\n",
       "      <td>27.510</td>\n",
       "      <td>20.468</td>\n",
       "      <td>-0.000473</td>\n",
       "    </tr>\n",
       "    <tr>\n",
       "      <th>4</th>\n",
       "      <td>pass</td>\n",
       "      <td>30.765</td>\n",
       "      <td>21.352</td>\n",
       "      <td>29.190</td>\n",
       "      <td>50.184</td>\n",
       "      <td>-0.000099</td>\n",
       "    </tr>\n",
       "    <tr>\n",
       "      <th>5</th>\n",
       "      <td>pass</td>\n",
       "      <td>30.660</td>\n",
       "      <td>50.864</td>\n",
       "      <td>28.875</td>\n",
       "      <td>35.904</td>\n",
       "      <td>0.000246</td>\n",
       "    </tr>\n",
       "    <tr>\n",
       "      <th>6</th>\n",
       "      <td>pass</td>\n",
       "      <td>32.760</td>\n",
       "      <td>28.084</td>\n",
       "      <td>40.740</td>\n",
       "      <td>8.432</td>\n",
       "      <td>0.000046</td>\n",
       "    </tr>\n",
       "    <tr>\n",
       "      <th>8</th>\n",
       "      <td>pass</td>\n",
       "      <td>47.565</td>\n",
       "      <td>59.704</td>\n",
       "      <td>59.850</td>\n",
       "      <td>59.704</td>\n",
       "      <td>0.001355</td>\n",
       "    </tr>\n",
       "    <tr>\n",
       "      <th>9</th>\n",
       "      <td>pass</td>\n",
       "      <td>64.155</td>\n",
       "      <td>58.956</td>\n",
       "      <td>66.990</td>\n",
       "      <td>67.048</td>\n",
       "      <td>-0.000789</td>\n",
       "    </tr>\n",
       "    <tr>\n",
       "      <th>11</th>\n",
       "      <td>pass</td>\n",
       "      <td>43.365</td>\n",
       "      <td>0.000</td>\n",
       "      <td>36.435</td>\n",
       "      <td>4.624</td>\n",
       "      <td>0.000000</td>\n",
       "    </tr>\n",
       "  </tbody>\n",
       "</table>\n",
       "</div>"
      ],
      "text/plain": [
       "   type_name  start_x  start_y   end_x   end_y  xT_value\n",
       "0       pass   52.500   34.000  38.745  36.720 -0.002549\n",
       "1       pass   38.745   36.720  36.435  25.636 -0.000071\n",
       "2       pass   38.325   24.140  36.540   7.208 -0.000780\n",
       "3       pass   36.330    9.316  27.510  20.468 -0.000473\n",
       "4       pass   30.765   21.352  29.190  50.184 -0.000099\n",
       "5       pass   30.660   50.864  28.875  35.904  0.000246\n",
       "6       pass   32.760   28.084  40.740   8.432  0.000046\n",
       "8       pass   47.565   59.704  59.850  59.704  0.001355\n",
       "9       pass   64.155   58.956  66.990  67.048 -0.000789\n",
       "11      pass   43.365    0.000  36.435   4.624  0.000000"
      ]
     },
     "execution_count": 25,
     "metadata": {},
     "output_type": "execute_result"
    }
   ],
   "source": [
    "#planteo el calculo de xT para cada una de las acciones de pase.\n",
    "mov_actions = xthreat.get_successful_move_actions(df)\n",
    "mov_actions[\"xT_value\"] = xTModel.predict(mov_actions)\n",
    "mov_actions[[\"type_name\", \"start_x\", \"start_y\", \"end_x\", \"end_y\", \"xT_value\"]][:10]"
   ]
  },
  {
   "cell_type": "code",
   "execution_count": 30,
   "metadata": {},
   "outputs": [
    {
     "data": {
      "image/png": "[encoded data removed]",
      "text/plain": [
       "<Figure size 432x288 with 2 Axes>"
      ]
     },
     "metadata": {
      "needs_background": "light"
     },
     "output_type": "display_data"
    },
    {
     "data": {
      "image/png": "[encoded data removed]",
      "text/plain": [
       "<Figure size 432x288 with 2 Axes>"
      ]
     },
     "metadata": {
      "needs_background": "light"
     },
     "output_type": "display_data"
    },
    {
     "data": {
      "text/plain": [
       "<AxesSubplot:>"
      ]
     },
     "execution_count": 30,
     "metadata": {},
     "output_type": "execute_result"
    }
   ],
   "source": [
    "#visualizo para entender que los valores tengan sentido. A valor mas alto, mas peligro, deberia ser un pase completado mas cerca del arco.\n",
    "import matplotsoccer as mps\n",
    "import numpy as np\n",
    "import matplotlib.pyplot as plt\n",
    "\n",
    "# Inspect the learned heatmap\n",
    "mps.heatmap(xTModel.xT, cmap=\"hot\", linecolor=\"white\", cbar=\"True\")\n",
    "\n",
    "\n",
    "# Inspect the interpolated heatmap used for predictions\n",
    "interp = xTModel.interpolator()\n",
    "x = np.linspace(0, 105, 1050)\n",
    "y = np.linspace(0, 68, 680)\n",
    "mps.heatmap(interp(x,y), cmap=\"hot\", linecolor=\"white\", cbar=\"True\")"
   ]
  },
  {
   "cell_type": "code",
   "execution_count": 53,
   "metadata": {},
   "outputs": [],
   "source": [
    "#defino partido.\n",
    "partido = pd.read_excel('2022-07-21 - Lanus vs Velez Sarsfield LPF2022.xlsx')"
   ]
  },
  {
   "cell_type": "code",
   "execution_count": 55,
   "metadata": {},
   "outputs": [
    {
     "data": {
      "text/plain": [
       "(1522, 32)"
      ]
     },
     "execution_count": 55,
     "metadata": {},
     "output_type": "execute_result"
    }
   ],
   "source": [
    "partido.shape"
   ]
  },
  {
   "cell_type": "code",
   "execution_count": 56,
   "metadata": {},
   "outputs": [],
   "source": [
    "#filtro por acciones de tiro y pase nomas.\n",
    "partido = partido[(partido['isShot'] == 1) | (partido['displayName.1'] == 'Pass')]"
   ]
  },
  {
   "cell_type": "code",
   "execution_count": 57,
   "metadata": {},
   "outputs": [
    {
     "data": {
      "text/plain": [
       "(958, 32)"
      ]
     },
     "execution_count": 57,
     "metadata": {},
     "output_type": "execute_result"
    }
   ],
   "source": [
    "partido.shape"
   ]
  },
  {
   "cell_type": "code",
   "execution_count": 68,
   "metadata": {},
   "outputs": [],
   "source": [
    "#funciones para pasar del formato del partido al formato spadl.\n",
    "def parseo_spadl(partido):\n",
    "    partido.rename(columns={\n",
    "        \"id\":\"game_id\",\n",
    "        \"eventId\":\"event_id\",\n",
    "        \"teamId\":\"team_id\",\n",
    "        \"x\": \"start_x\",\n",
    "        \"y\": \"start_y\",\n",
    "        \"endX\":\"end_x\",\n",
    "        \"endY\":\"end_y\",\n",
    "        \"value.1\": \"type_id\",\n",
    "        \"displayName.1\": \"type_name\",\n",
    "        \"value.2\": \"result_id\",\n",
    "        \"displayName.2\": \"result_name\",\n",
    "        \"playerId\": \"player_id\"\n",
    "    }, inplace=True)\n",
    "    partido['type_name'] = np.where(partido['isShot'] == 1, 'shot', 'pass')\n",
    "    partido['type_id'] = np.where(partido['isShot'] == 1, 11, 0)\n",
    "    partido['isGoal'] = partido.isGoal.fillna(0)\n",
    "    partido['result_name'] = np.where((partido['type_name'] == 'shot') & (partido['isGoal'] != 1), 'fail', np.where((partido['result_id'] != 1) & (partido['type_name'] == 'pass'), 'Unsuccessful', 'Successful'))\n",
    "    partido[['end_x','end_y']] = partido[['end_x', 'end_y']].fillna(0)\n",
    "    partido['start_x'] = partido['start_x'] * 1.05\n",
    "    partido['start_y'] = partido['start_y'] * 0.68\n",
    "    partido['end_x'] = partido['end_x'] * 1.05\n",
    "    partido['end_y'] = partido['end_y'] * 0.68"
   ]
  },
  {
   "cell_type": "code",
   "execution_count": 69,
   "metadata": {},
   "outputs": [],
   "source": [
    "parseo_spadl(partido)"
   ]
  },
  {
   "cell_type": "code",
   "execution_count": 61,
   "metadata": {},
   "outputs": [
    {
     "name": "stdout",
     "output_type": "stream",
     "text": [
      "[0.00686787 0.00346824 0.00223108 0.00731742 0.01547894 0.00976342\n",
      " 0.00731742 0.01063442 0.00731742 0.00566596 0.00537905 0.00346824\n",
      " 0.00424181 0.00430922 0.00341558 0.00424181 0.00356215 0.00335554\n",
      " 0.00335554 0.00261378 0.00201817 0.00496942 0.00600467 0.00216022\n",
      " 0.00099118 0.01513067 0.00357492 0.00299408 0.00431047 0.00660438\n",
      " 0.00569248 0.00660438 0.00731742 0.00686787 0.00496942 0.0085277\n",
      " 0.00341558 0.00731742 0.00341558 0.00335073 0.00331612 0.02796474\n",
      " 0.00517145 0.00356215 0.00424769 0.00430922 0.00388837 0.00424181\n",
      " 0.00496942 0.00335554 0.00277369 0.00936493 0.00673125 0.00773879\n",
      " 0.00537905 0.00431911 0.00424181 0.00431911 0.00299408 0.00388564\n",
      " 0.00261378 0.00335554 0.00431047 0.00341558 0.00356215 0.00388564\n",
      " 0.00731742 0.00431911 0.00429425 0.0147649  0.02173926 0.02173926\n",
      " 0.0146249  0.02770308 0.00566596 0.0085277  0.00341558 0.00275911\n",
      " 0.00600467 0.00142335 0.00201817 0.00331612 0.00346824 0.00504847\n",
      " 0.00341558 0.00429425 0.00431911 0.00706259 0.00660438 0.00731742\n",
      " 0.01660961 0.00233904 0.01103532 0.00357492 0.00341558 0.00356215\n",
      " 0.00335554 0.00356215 0.00357492 0.00233904 0.00277369 0.00430922\n",
      " 0.00569248 0.00773879 0.00431047 0.00496942 0.00261378 0.0266786\n",
      " 0.00569248 0.00261378 0.00264533 0.00306417 0.00300883 0.00277369\n",
      " 0.00300883 0.00303775 0.00298119 0.00331612 0.00357492 0.00270948\n",
      " 0.00277369 0.00731742 0.00976342 0.00215615 0.00163066 0.00600467\n",
      " 0.00275911 0.00431047 0.00277369 0.00600467 0.00356215 0.00303471\n",
      " 0.00331612 0.00335554 0.00424181 0.01103532 0.01385846 0.01308126\n",
      " 0.00566596 0.00543826 0.00261378 0.00430922 0.00356215 0.00335554\n",
      " 0.00660438 0.00686787 0.02152829 0.01486341 0.01750147 0.00944674\n",
      " 0.00781793 0.00388837 0.00696451 0.01660961 0.02179296 0.00600467\n",
      " 0.00496942 0.00300883 0.00306417 0.00299408 0.00335554 0.00299408\n",
      " 0.00303775 0.00300883 0.00357492 0.00275911 0.00223108 0.00430922\n",
      " 0.00388837 0.00431911 0.00300883 0.00306417 0.00300883 0.00357492\n",
      " 0.00388564 0.00564524 0.00917518 0.00388564 0.00299408 0.00346824\n",
      " 0.00496942 0.00424769 0.00331612 0.00261378 0.00264533 0.00306417\n",
      " 0.00264533 0.00388564 0.00261378 0.00299408 0.00306417 0.00773879\n",
      " 0.01103532 0.00223108 0.00346824 0.00431911 0.00341558 0.00261378\n",
      " 0.00424181 0.00300883 0.00430922 0.00351429 0.00430922 0.00569248\n",
      " 0.00351429 0.00346824 0.00306417 0.00261378 0.00264533 0.00261378\n",
      " 0.00781793 0.00564524 0.00731742 0.01103532 0.0085277  0.00936493\n",
      " 0.00566596 0.00537905 0.00431911 0.00543826 0.00430922 0.00424769\n",
      " 0.00537905 0.00773879 0.00673125 0.00537905 0.00781793 0.00388837\n",
      " 0.00773879 0.00673125 0.00773879 0.00773879 0.00566596 0.00300883\n",
      " 0.00686787 0.01063442 0.0146249  0.00686787 0.00731742 0.00431911\n",
      " 0.00528598 0.00306417 0.00298119 0.00300883 0.00306417 0.00275911\n",
      " 0.00275911 0.01513067 0.00357492 0.00223108 0.00431047 0.00346824\n",
      " 0.00917518 0.03980799 0.00270948 0.00277369 0.00346824 0.00346824\n",
      " 0.00673125 0.00356215 0.00351429 0.00566596 0.00496942 0.00566596\n",
      " 0.00356215 0.00431911 0.00781793 0.00261378 0.00335554 0.00731742\n",
      " 0.00201817 0.00264533 0.00781793 0.00277369 0.00341558 0.00331612\n",
      " 0.00431047 0.00223108 0.00696451 0.00696451 0.00261378 0.00163066\n",
      " 0.00388564 0.00431911 0.00944674 0.00773879 0.0266786  0.02770308\n",
      " 0.01063442 0.03980799 0.01162519 0.00569248 0.00696451 0.00543826\n",
      " 0.00773879 0.00673125 0.00537905 0.00686787 0.00537905 0.00773879\n",
      " 0.01063442 0.00944674 0.01823621 0.00564524 0.00424769 0.00277369\n",
      " 0.00773879 0.00261378 0.00566596 0.00731742 0.00388837 0.00303471\n",
      " 0.00335073 0.00357492 0.00781793 0.00424769 0.00431911 0.00431911\n",
      " 0.0085277  0.01103532 0.0085277  0.01103532 0.00673125 0.00298119\n",
      " 0.00431911 0.00356215 0.00331612 0.00306417 0.00277369 0.0146249\n",
      " 0.00303775 0.00673125 0.00351429 0.00528598 0.00277369 0.01513067\n",
      " 0.00331612 0.00686787 0.00944674 0.01486341 0.01162519 0.01856157\n",
      " 0.00163066 0.00388564 0.00431047 0.00600467 0.00543826 0.01547894\n",
      " 0.00201817 0.00388564 0.00424181 0.00431911 0.00424181 0.00431911\n",
      " 0.00299408 0.00424181 0.00331612 0.00356215 0.00430922 0.00564524\n",
      " 0.00543826 0.00431911 0.00388837 0.00706259 0.00356215 0.00346824\n",
      " 0.00781793 0.01486341 0.01823621 0.00517145 0.00388564 0.00496942\n",
      " 0.00388564 0.00331612 0.00335073 0.00274081 0.00356215 0.02173926\n",
      " 0.00356215 0.00351429 0.00781793 0.00660438 0.00430922 0.00781793\n",
      " 0.00299408 0.00356215 0.00341558 0.00706259 0.01308126 0.00517145\n",
      " 0.00216022 0.00566596 0.00781793 0.01162519 0.00944674 0.00944674\n",
      " 0.01103532 0.01547894 0.00357492 0.00731742 0.00537905 0.00388564\n",
      " 0.00528598 0.0147649  0.0146249  0.00976342 0.00944674 0.03743678\n",
      " 0.00600467 0.00335073 0.0266786  0.00335554 0.00299408 0.00346824\n",
      " 0.00430922 0.00781793 0.01162519 0.00569248 0.00335554 0.00388564\n",
      " 0.00431047 0.00346824 0.00356215 0.00543826 0.00936493 0.00357492\n",
      " 0.00537905 0.00600467 0.00277369 0.00660438 0.00781793 0.00944674\n",
      " 0.00706259 0.01547894 0.01385846 0.00564524 0.00504847 0.00569248\n",
      " 0.00528598 0.00356215 0.00424181 0.00706259 0.00936493 0.05083752\n",
      " 0.01856157 0.01486341 0.00976342 0.00543826 0.00537905 0.00936493\n",
      " 0.00936493 0.01063442 0.00537905 0.00424181 0.00303775 0.00300883\n",
      " 0.00429425 0.00429425 0.00331612 0.00424181 0.00299408 0.00303775\n",
      " 0.00277369 0.00298119 0.0146249  0.02179296 0.00306417 0.00298119\n",
      " 0.00306417 0.00424181 0.00356215 0.00431911 0.00346824 0.00430922\n",
      " 0.00528598 0.00564524 0.00429425 0.00303775 0.00773879 0.00496942\n",
      " 0.00706259 0.00781793 0.00504847 0.00537905 0.00731742 0.01063442\n",
      " 0.00731742 0.00731742 0.00673125 0.0085277  0.0085277  0.00429425\n",
      " 0.01486341 0.00781793 0.00944674 0.01547894 0.00936493 0.0147649\n",
      " 0.0146249  0.01063442 0.00600467 0.00303471 0.00341558 0.00275911\n",
      " 0.00569248 0.00357492 0.00335073 0.00564524 0.00944674 0.01162519\n",
      " 0.00696451 0.01750147 0.0147649  0.00298119 0.02173926 0.00335073\n",
      " 0.00496942 0.00537905 0.00341558 0.00331612 0.00543826 0.0085277\n",
      " 0.00773879 0.00731742 0.00696451 0.01162519 0.00917518 0.00686787\n",
      " 0.01308126 0.01660961 0.01103532 0.01513067 0.0147649  0.02152829\n",
      " 0.02770308 0.01486341 0.0146249  0.00944674 0.00917518 0.00696451\n",
      " 0.0146249  0.00944674 0.01162519 0.00944674 0.01547894 0.01513067\n",
      " 0.0146249  0.00564524 0.00431911 0.00261378 0.00331612 0.00356215\n",
      " 0.00431911 0.00424181 0.00388564 0.00431047 0.00424181 0.00341558\n",
      " 0.00351429 0.00528598 0.00331612 0.00537905 0.00429425 0.00431911\n",
      " 0.01385846 0.00706259 0.00564524 0.0085277  0.00537905 0.00564524\n",
      " 0.00569248 0.00706259 0.01308126 0.00430922 0.00351429 0.00429425\n",
      " 0.00346824 0.00569248 0.00528598 0.00686787 0.0085277  0.01385846\n",
      " 0.01103532 0.00706259 0.00917518 0.00528598 0.00917518 0.01547894\n",
      " 0.01308126 0.01063442 0.01486341 0.01162519 0.00944674 0.01513067\n",
      " 0.00564524 0.00504847 0.00388837 0.00357492 0.00299408 0.00335554\n",
      " 0.00299408 0.00504847 0.02755755 0.01486341 0.01513067 0.00424769\n",
      " 0.01308126 0.01730524 0.01103532 0.01063442 0.00696451 0.01486341\n",
      " 0.0147649  0.01823621 0.01162519 0.01486341 0.00537905 0.00600467\n",
      " 0.00346824 0.00306417 0.00341558 0.00424769 0.0085277  0.00773879\n",
      " 0.00566596 0.00537905 0.00696451 0.00781793 0.00528598 0.00706259\n",
      " 0.01547894 0.01547894 0.01486341 0.02129918 0.00351429 0.00298119\n",
      " 0.00600467 0.00673125 0.01730524 0.00357492 0.00298119 0.00537905\n",
      " 0.00528598 0.00917518 0.01162519 0.00569248 0.01063442 0.01103532\n",
      " 0.00099118 0.00233904 0.00424769 0.00424181 0.00673125 0.00537905\n",
      " 0.00528598 0.00431911 0.00731742 0.00686787 0.00696451 0.00917518\n",
      " 0.01308126 0.01660961 0.01063442 0.00537905 0.00917518 0.01162519\n",
      " 0.00781793 0.00976342 0.01547894 0.01385846 0.02796474 0.01547894\n",
      " 0.01063442 0.01730524 0.00781793 0.00944674 0.01547894 0.01547894\n",
      " 0.00976342 0.01486341 0.00944674 0.00936493 0.01730524 0.01547894\n",
      " 0.00277369 0.00303471 0.00600467 0.00331612 0.00537905 0.00660438\n",
      " 0.00944674 0.00424769 0.00306417 0.00564524 0.00357492 0.00917518\n",
      " 0.00201817 0.00234554 0.00346824 0.00528598 0.00686787 0.00773879\n",
      " 0.01385846 0.01308126 0.00936493 0.00430922 0.00944674 0.01162519\n",
      " 0.00696451 0.01063442 0.01308126 0.01547894 0.00944674 0.01486341\n",
      " 0.0147649  0.01486341 0.02173926 0.01486341 0.00569248 0.00335554\n",
      " 0.00261378 0.00331612]\n"
     ]
    },
    {
     "data": {
      "text/html": [
       "<div>\n",
       "<style scoped>\n",
       "    .dataframe tbody tr th:only-of-type {\n",
       "        vertical-align: middle;\n",
       "    }\n",
       "\n",
       "    .dataframe tbody tr th {\n",
       "        vertical-align: top;\n",
       "    }\n",
       "\n",
       "    .dataframe thead th {\n",
       "        text-align: right;\n",
       "    }\n",
       "</style>\n",
       "<table border=\"1\" class=\"dataframe\">\n",
       "  <thead>\n",
       "    <tr style=\"text-align: right;\">\n",
       "      <th></th>\n",
       "      <th>type_name</th>\n",
       "      <th>start_x</th>\n",
       "      <th>start_y</th>\n",
       "      <th>end_x</th>\n",
       "      <th>end_y</th>\n",
       "      <th>xT_value</th>\n",
       "    </tr>\n",
       "  </thead>\n",
       "  <tbody>\n",
       "    <tr>\n",
       "      <th>2</th>\n",
       "      <td>pass</td>\n",
       "      <td>52.605</td>\n",
       "      <td>34.000</td>\n",
       "      <td>33.180</td>\n",
       "      <td>31.756</td>\n",
       "      <td>-0.003400</td>\n",
       "    </tr>\n",
       "    <tr>\n",
       "      <th>3</th>\n",
       "      <td>pass</td>\n",
       "      <td>33.285</td>\n",
       "      <td>31.892</td>\n",
       "      <td>73.605</td>\n",
       "      <td>55.896</td>\n",
       "      <td>0.009613</td>\n",
       "    </tr>\n",
       "    <tr>\n",
       "      <th>7</th>\n",
       "      <td>pass</td>\n",
       "      <td>21.525</td>\n",
       "      <td>0.000</td>\n",
       "      <td>41.055</td>\n",
       "      <td>15.436</td>\n",
       "      <td>0.001657</td>\n",
       "    </tr>\n",
       "    <tr>\n",
       "      <th>9</th>\n",
       "      <td>pass</td>\n",
       "      <td>56.595</td>\n",
       "      <td>44.812</td>\n",
       "      <td>74.970</td>\n",
       "      <td>45.424</td>\n",
       "      <td>0.008162</td>\n",
       "    </tr>\n",
       "    <tr>\n",
       "      <th>12</th>\n",
       "      <td>pass</td>\n",
       "      <td>74.235</td>\n",
       "      <td>44.676</td>\n",
       "      <td>69.090</td>\n",
       "      <td>33.524</td>\n",
       "      <td>-0.005716</td>\n",
       "    </tr>\n",
       "    <tr>\n",
       "      <th>14</th>\n",
       "      <td>pass</td>\n",
       "      <td>67.620</td>\n",
       "      <td>32.708</td>\n",
       "      <td>60.690</td>\n",
       "      <td>45.424</td>\n",
       "      <td>-0.002446</td>\n",
       "    </tr>\n",
       "    <tr>\n",
       "      <th>15</th>\n",
       "      <td>pass</td>\n",
       "      <td>60.690</td>\n",
       "      <td>45.424</td>\n",
       "      <td>62.055</td>\n",
       "      <td>39.508</td>\n",
       "      <td>0.003317</td>\n",
       "    </tr>\n",
       "    <tr>\n",
       "      <th>16</th>\n",
       "      <td>pass</td>\n",
       "      <td>62.055</td>\n",
       "      <td>39.508</td>\n",
       "      <td>58.590</td>\n",
       "      <td>46.308</td>\n",
       "      <td>-0.003317</td>\n",
       "    </tr>\n",
       "    <tr>\n",
       "      <th>17</th>\n",
       "      <td>pass</td>\n",
       "      <td>58.590</td>\n",
       "      <td>46.308</td>\n",
       "      <td>55.755</td>\n",
       "      <td>63.444</td>\n",
       "      <td>-0.001651</td>\n",
       "    </tr>\n",
       "    <tr>\n",
       "      <th>18</th>\n",
       "      <td>pass</td>\n",
       "      <td>55.755</td>\n",
       "      <td>63.444</td>\n",
       "      <td>49.035</td>\n",
       "      <td>51.136</td>\n",
       "      <td>-0.000697</td>\n",
       "    </tr>\n",
       "  </tbody>\n",
       "</table>\n",
       "</div>"
      ],
      "text/plain": [
       "   type_name  start_x  start_y   end_x   end_y  xT_value\n",
       "2       pass   52.605   34.000  33.180  31.756 -0.003400\n",
       "3       pass   33.285   31.892  73.605  55.896  0.009613\n",
       "7       pass   21.525    0.000  41.055  15.436  0.001657\n",
       "9       pass   56.595   44.812  74.970  45.424  0.008162\n",
       "12      pass   74.235   44.676  69.090  33.524 -0.005716\n",
       "14      pass   67.620   32.708  60.690  45.424 -0.002446\n",
       "15      pass   60.690   45.424  62.055  39.508  0.003317\n",
       "16      pass   62.055   39.508  58.590  46.308 -0.003317\n",
       "17      pass   58.590   46.308  55.755  63.444 -0.001651\n",
       "18      pass   55.755   63.444  49.035  51.136 -0.000697"
      ]
     },
     "execution_count": 61,
     "metadata": {},
     "output_type": "execute_result"
    }
   ],
   "source": [
    "#calculo acciones para el partido.\n",
    "mov_actions = xthreat.get_successful_move_actions(partido)\n",
    "mov_actions[\"xT_value\"] = xTModel.predict(mov_actions)\n",
    "mov_actions[[\"type_name\", \"start_x\", \"start_y\", \"end_x\", \"end_y\", \"xT_value\"]][:10]"
   ]
  },
  {
   "cell_type": "code",
   "execution_count": 62,
   "metadata": {},
   "outputs": [
    {
     "data": {
      "text/plain": [
       "jugador\n",
       "Francisco Ortega        0.249052\n",
       "Julián Fernández        0.209071\n",
       "Samuel Careaga          0.191098\n",
       "Franco Orozco           0.181683\n",
       "Luca Orellano           0.172486\n",
       "Santiago Cáseres        0.127430\n",
       "Matías Pérez            0.115291\n",
       "Julián Aude             0.101081\n",
       "Valentín Gómez          0.075575\n",
       "Walter Bou              0.055719\n",
       "Leonardo Jara           0.054826\n",
       "Matías Vera             0.045593\n",
       "Lautaro Acosta          0.043441\n",
       "Diego Godín             0.038400\n",
       "Mateo Sanabria          0.037676\n",
       "Máximo Perrone          0.031362\n",
       "Leonel Di Plácido       0.024297\n",
       "Franco Ortellado        0.024102\n",
       "Lucas Janson            0.015278\n",
       "Lucas Hoyos             0.011294\n",
       "Lucas Pratto            0.010222\n",
       "José Sand               0.008581\n",
       "Raúl Loaiza             0.007486\n",
       "Brian Blando            0.005450\n",
       "Santiago Castro        -0.001417\n",
       "Fernando Monetti       -0.005024\n",
       "Maximiliano González   -0.007711\n",
       "Nicolás Garayalde      -0.009431\n",
       "Joel Soñora            -0.024493\n",
       "Abiel Osorio           -0.041574\n",
       "Name: xT_value, dtype: float64"
      ]
     },
     "execution_count": 62,
     "metadata": {},
     "output_type": "execute_result"
    }
   ],
   "source": [
    "#agrupar por jugador para entender que jugadores fueron los de más xT.\n",
    "mov_actions.groupby('jugador').sum()['xT_value'].sort_values(ascending=False)"
   ]
  }
 ],
 "metadata": {
  "kernelspec": {
   "display_name": "Python 3.9.2 64-bit (system)",
   "language": "python",
   "name": "python3"
  },
  "language_info": {
   "codemirror_mode": {
    "name": "ipython",
    "version": 3
   },
   "file_extension": ".py",
   "mimetype": "text/x-python",
   "name": "python",
   "nbconvert_exporter": "python",
   "pygments_lexer": "ipython3",
   "version": "3.9.2"
  },
  "orig_nbformat": 4,
  "vscode": {
   "interpreter": {
    "hash": "cafdb87b1412beebc5037fc064dfd7f159b00d033bcd019b8604859282e7bd78"
   }
  }
 },
 "nbformat": 4,
 "nbformat_minor": 2
}
